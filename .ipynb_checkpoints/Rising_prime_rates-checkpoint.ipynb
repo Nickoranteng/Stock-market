{
 "cells": [
  {
   "cell_type": "code",
   "execution_count": 1,
   "metadata": {},
   "outputs": [],
   "source": [
    "#pip install quandl"
   ]
  },
  {
   "cell_type": "code",
   "execution_count": 2,
   "metadata": {},
   "outputs": [],
   "source": [
    "# Dependencies\n",
    "import json\n",
    "import quandl\n",
    "import numpy as np\n",
    "import pandas as pd\n",
    "import matplotlib.pyplot as plt\n",
    "%matplotlib inline\n",
    "from config import API_key\n",
    "import matplotlib\n",
    "#import plotly.graph_objects as go\n",
    "\n",
    "import pymysql\n",
    "pymysql.install_as_MySQLdb()\n",
    "from sqlalchemy import create_engine"
   ]
  },
  {
   "cell_type": "markdown",
   "metadata": {},
   "source": [
    "# PRIME RATE\n",
    "The prime rate is a guiding interest rate that lenders reference when they set interest rates for consumers on things like credit cards, loans or mortgages. The current prime rate is 3.25%.\n",
    "\n",
    "Average Reported Prime Rate,Weighted by the Amount Loans Priced Relative to Prime, by Base Pricing Rate"
   ]
  },
  {
   "cell_type": "code",
   "execution_count": 3,
   "metadata": {},
   "outputs": [
    {
     "data": {
      "text/html": [
       "<div>\n",
       "<style scoped>\n",
       "    .dataframe tbody tr th:only-of-type {\n",
       "        vertical-align: middle;\n",
       "    }\n",
       "\n",
       "    .dataframe tbody tr th {\n",
       "        vertical-align: top;\n",
       "    }\n",
       "\n",
       "    .dataframe thead th {\n",
       "        text-align: right;\n",
       "    }\n",
       "</style>\n",
       "<table border=\"1\" class=\"dataframe\">\n",
       "  <thead>\n",
       "    <tr style=\"text-align: right;\">\n",
       "      <th></th>\n",
       "      <th>Date</th>\n",
       "      <th>MPRIME</th>\n",
       "    </tr>\n",
       "  </thead>\n",
       "  <tbody>\n",
       "    <tr>\n",
       "      <th>860</th>\n",
       "      <td>2020-09-01</td>\n",
       "      <td>3.25</td>\n",
       "    </tr>\n",
       "    <tr>\n",
       "      <th>861</th>\n",
       "      <td>2020-10-01</td>\n",
       "      <td>3.25</td>\n",
       "    </tr>\n",
       "    <tr>\n",
       "      <th>862</th>\n",
       "      <td>2020-11-01</td>\n",
       "      <td>3.25</td>\n",
       "    </tr>\n",
       "    <tr>\n",
       "      <th>863</th>\n",
       "      <td>2020-12-01</td>\n",
       "      <td>3.25</td>\n",
       "    </tr>\n",
       "    <tr>\n",
       "      <th>864</th>\n",
       "      <td>2021-01-01</td>\n",
       "      <td>3.25</td>\n",
       "    </tr>\n",
       "  </tbody>\n",
       "</table>\n",
       "</div>"
      ],
      "text/plain": [
       "           Date  MPRIME\n",
       "860  2020-09-01    3.25\n",
       "861  2020-10-01    3.25\n",
       "862  2020-11-01    3.25\n",
       "863  2020-12-01    3.25\n",
       "864  2021-01-01    3.25"
      ]
     },
     "execution_count": 3,
     "metadata": {},
     "output_type": "execute_result"
    }
   ],
   "source": [
    "#read records \n",
    "prime_rate=pd.read_csv(\"../Stock-market/static/data/MPRIME.csv\")\n",
    "prime_rate.tail()"
   ]
  },
  {
   "cell_type": "code",
   "execution_count": 4,
   "metadata": {},
   "outputs": [],
   "source": [
    "# change datatype of date column to datetime\n",
    "prime_rate['Date'] = pd.to_datetime(prime_rate['Date'])"
   ]
  },
  {
   "cell_type": "code",
   "execution_count": 5,
   "metadata": {
    "scrolled": true
   },
   "outputs": [
    {
     "data": {
      "text/html": [
       "<div>\n",
       "<style scoped>\n",
       "    .dataframe tbody tr th:only-of-type {\n",
       "        vertical-align: middle;\n",
       "    }\n",
       "\n",
       "    .dataframe tbody tr th {\n",
       "        vertical-align: top;\n",
       "    }\n",
       "\n",
       "    .dataframe thead th {\n",
       "        text-align: right;\n",
       "    }\n",
       "</style>\n",
       "<table border=\"1\" class=\"dataframe\">\n",
       "  <thead>\n",
       "    <tr style=\"text-align: right;\">\n",
       "      <th></th>\n",
       "      <th>Date</th>\n",
       "      <th>MPRIME</th>\n",
       "    </tr>\n",
       "  </thead>\n",
       "  <tbody>\n",
       "    <tr>\n",
       "      <th>860</th>\n",
       "      <td>2020-09-01</td>\n",
       "      <td>3.25</td>\n",
       "    </tr>\n",
       "    <tr>\n",
       "      <th>861</th>\n",
       "      <td>2020-10-01</td>\n",
       "      <td>3.25</td>\n",
       "    </tr>\n",
       "    <tr>\n",
       "      <th>862</th>\n",
       "      <td>2020-11-01</td>\n",
       "      <td>3.25</td>\n",
       "    </tr>\n",
       "    <tr>\n",
       "      <th>863</th>\n",
       "      <td>2020-12-01</td>\n",
       "      <td>3.25</td>\n",
       "    </tr>\n",
       "    <tr>\n",
       "      <th>864</th>\n",
       "      <td>2021-01-01</td>\n",
       "      <td>3.25</td>\n",
       "    </tr>\n",
       "  </tbody>\n",
       "</table>\n",
       "</div>"
      ],
      "text/plain": [
       "          Date  MPRIME\n",
       "860 2020-09-01    3.25\n",
       "861 2020-10-01    3.25\n",
       "862 2020-11-01    3.25\n",
       "863 2020-12-01    3.25\n",
       "864 2021-01-01    3.25"
      ]
     },
     "execution_count": 5,
     "metadata": {},
     "output_type": "execute_result"
    }
   ],
   "source": [
    "# Filter data for 15 years\n",
    "filtered_prime_rate = prime_rate.loc[(prime_rate['Date'] >= '2006-01-01') ]\n",
    "                     \n",
    "filtered_prime_rate.tail()"
   ]
  },
  {
   "cell_type": "code",
   "execution_count": 6,
   "metadata": {},
   "outputs": [
    {
     "data": {
      "text/html": [
       "<div>\n",
       "<style scoped>\n",
       "    .dataframe tbody tr th:only-of-type {\n",
       "        vertical-align: middle;\n",
       "    }\n",
       "\n",
       "    .dataframe tbody tr th {\n",
       "        vertical-align: top;\n",
       "    }\n",
       "\n",
       "    .dataframe thead th {\n",
       "        text-align: right;\n",
       "    }\n",
       "</style>\n",
       "<table border=\"1\" class=\"dataframe\">\n",
       "  <thead>\n",
       "    <tr style=\"text-align: right;\">\n",
       "      <th></th>\n",
       "      <th>MPRIME</th>\n",
       "    </tr>\n",
       "    <tr>\n",
       "      <th>Date</th>\n",
       "      <th></th>\n",
       "    </tr>\n",
       "  </thead>\n",
       "  <tbody>\n",
       "    <tr>\n",
       "      <th>2020-09-01</th>\n",
       "      <td>3.25</td>\n",
       "    </tr>\n",
       "    <tr>\n",
       "      <th>2020-10-01</th>\n",
       "      <td>3.25</td>\n",
       "    </tr>\n",
       "    <tr>\n",
       "      <th>2020-11-01</th>\n",
       "      <td>3.25</td>\n",
       "    </tr>\n",
       "    <tr>\n",
       "      <th>2020-12-01</th>\n",
       "      <td>3.25</td>\n",
       "    </tr>\n",
       "    <tr>\n",
       "      <th>2021-01-01</th>\n",
       "      <td>3.25</td>\n",
       "    </tr>\n",
       "  </tbody>\n",
       "</table>\n",
       "</div>"
      ],
      "text/plain": [
       "            MPRIME\n",
       "Date              \n",
       "2020-09-01    3.25\n",
       "2020-10-01    3.25\n",
       "2020-11-01    3.25\n",
       "2020-12-01    3.25\n",
       "2021-01-01    3.25"
      ]
     },
     "execution_count": 6,
     "metadata": {},
     "output_type": "execute_result"
    }
   ],
   "source": [
    "# set Date column as index \n",
    "filtered_prime_rate_df =filtered_prime_rate.set_index('Date')\n",
    "filtered_prime_rate_df.tail()"
   ]
  },
  {
   "cell_type": "markdown",
   "metadata": {},
   "source": [
    "# GROUP THE PRIME RATE BY YEAR AND AGRREGATE BY AVERAGE"
   ]
  },
  {
   "cell_type": "code",
   "execution_count": 7,
   "metadata": {
    "scrolled": true
   },
   "outputs": [
    {
     "data": {
      "text/html": [
       "<div>\n",
       "<style scoped>\n",
       "    .dataframe tbody tr th:only-of-type {\n",
       "        vertical-align: middle;\n",
       "    }\n",
       "\n",
       "    .dataframe tbody tr th {\n",
       "        vertical-align: top;\n",
       "    }\n",
       "\n",
       "    .dataframe thead th {\n",
       "        text-align: right;\n",
       "    }\n",
       "</style>\n",
       "<table border=\"1\" class=\"dataframe\">\n",
       "  <thead>\n",
       "    <tr style=\"text-align: right;\">\n",
       "      <th></th>\n",
       "      <th>mean</th>\n",
       "    </tr>\n",
       "  </thead>\n",
       "  <tbody>\n",
       "    <tr>\n",
       "      <th>2006</th>\n",
       "      <td>7.957500</td>\n",
       "    </tr>\n",
       "    <tr>\n",
       "      <th>2007</th>\n",
       "      <td>8.050000</td>\n",
       "    </tr>\n",
       "    <tr>\n",
       "      <th>2008</th>\n",
       "      <td>5.087500</td>\n",
       "    </tr>\n",
       "    <tr>\n",
       "      <th>2009</th>\n",
       "      <td>3.250000</td>\n",
       "    </tr>\n",
       "    <tr>\n",
       "      <th>2010</th>\n",
       "      <td>3.250000</td>\n",
       "    </tr>\n",
       "    <tr>\n",
       "      <th>2011</th>\n",
       "      <td>3.250000</td>\n",
       "    </tr>\n",
       "    <tr>\n",
       "      <th>2012</th>\n",
       "      <td>3.250000</td>\n",
       "    </tr>\n",
       "    <tr>\n",
       "      <th>2013</th>\n",
       "      <td>3.250000</td>\n",
       "    </tr>\n",
       "    <tr>\n",
       "      <th>2014</th>\n",
       "      <td>3.250000</td>\n",
       "    </tr>\n",
       "    <tr>\n",
       "      <th>2015</th>\n",
       "      <td>3.260000</td>\n",
       "    </tr>\n",
       "    <tr>\n",
       "      <th>2016</th>\n",
       "      <td>3.511667</td>\n",
       "    </tr>\n",
       "    <tr>\n",
       "      <th>2017</th>\n",
       "      <td>4.096667</td>\n",
       "    </tr>\n",
       "    <tr>\n",
       "      <th>2018</th>\n",
       "      <td>4.904167</td>\n",
       "    </tr>\n",
       "    <tr>\n",
       "      <th>2019</th>\n",
       "      <td>5.282500</td>\n",
       "    </tr>\n",
       "    <tr>\n",
       "      <th>2020</th>\n",
       "      <td>3.544167</td>\n",
       "    </tr>\n",
       "    <tr>\n",
       "      <th>2021</th>\n",
       "      <td>3.250000</td>\n",
       "    </tr>\n",
       "  </tbody>\n",
       "</table>\n",
       "</div>"
      ],
      "text/plain": [
       "          mean\n",
       "2006  7.957500\n",
       "2007  8.050000\n",
       "2008  5.087500\n",
       "2009  3.250000\n",
       "2010  3.250000\n",
       "2011  3.250000\n",
       "2012  3.250000\n",
       "2013  3.250000\n",
       "2014  3.250000\n",
       "2015  3.260000\n",
       "2016  3.511667\n",
       "2017  4.096667\n",
       "2018  4.904167\n",
       "2019  5.282500\n",
       "2020  3.544167\n",
       "2021  3.250000"
      ]
     },
     "execution_count": 7,
     "metadata": {},
     "output_type": "execute_result"
    }
   ],
   "source": [
    "prime_rate_grouped_avg = filtered_prime_rate_df.groupby(lambda x: x.year)['MPRIME'].agg(['mean'])\n",
    "prime_rate_grouped_avg\n",
    "\n"
   ]
  },
  {
   "cell_type": "markdown",
   "metadata": {},
   "source": [
    "# Effective Federal Funds Rate\n",
    "Federal funds rate is the target interest rate set by the Federal Open Market Committee (FOMC) at which commercial banks borrow and lend their excess reserves to each other overnight"
   ]
  },
  {
   "cell_type": "code",
   "execution_count": 8,
   "metadata": {},
   "outputs": [
    {
     "data": {
      "text/html": [
       "<div>\n",
       "<style scoped>\n",
       "    .dataframe tbody tr th:only-of-type {\n",
       "        vertical-align: middle;\n",
       "    }\n",
       "\n",
       "    .dataframe tbody tr th {\n",
       "        vertical-align: top;\n",
       "    }\n",
       "\n",
       "    .dataframe thead th {\n",
       "        text-align: right;\n",
       "    }\n",
       "</style>\n",
       "<table border=\"1\" class=\"dataframe\">\n",
       "  <thead>\n",
       "    <tr style=\"text-align: right;\">\n",
       "      <th></th>\n",
       "      <th>Value</th>\n",
       "    </tr>\n",
       "    <tr>\n",
       "      <th>Date</th>\n",
       "      <th></th>\n",
       "    </tr>\n",
       "  </thead>\n",
       "  <tbody>\n",
       "    <tr>\n",
       "      <th>2021-03-01</th>\n",
       "      <td>0.07</td>\n",
       "    </tr>\n",
       "    <tr>\n",
       "      <th>2021-03-02</th>\n",
       "      <td>0.07</td>\n",
       "    </tr>\n",
       "    <tr>\n",
       "      <th>2021-03-03</th>\n",
       "      <td>0.07</td>\n",
       "    </tr>\n",
       "    <tr>\n",
       "      <th>2021-03-04</th>\n",
       "      <td>0.07</td>\n",
       "    </tr>\n",
       "    <tr>\n",
       "      <th>2021-03-05</th>\n",
       "      <td>0.07</td>\n",
       "    </tr>\n",
       "  </tbody>\n",
       "</table>\n",
       "</div>"
      ],
      "text/plain": [
       "            Value\n",
       "Date             \n",
       "2021-03-01   0.07\n",
       "2021-03-02   0.07\n",
       "2021-03-03   0.07\n",
       "2021-03-04   0.07\n",
       "2021-03-05   0.07"
      ]
     },
     "execution_count": 8,
     "metadata": {},
     "output_type": "execute_result"
    }
   ],
   "source": [
    "fed_funds_rate = quandl.get(\"FRED/EFFR\", authtoken = API_key)\n",
    "fed_funds_rate.tail()"
   ]
  },
  {
   "cell_type": "code",
   "execution_count": 9,
   "metadata": {},
   "outputs": [
    {
     "data": {
      "text/html": [
       "<div>\n",
       "<style scoped>\n",
       "    .dataframe tbody tr th:only-of-type {\n",
       "        vertical-align: middle;\n",
       "    }\n",
       "\n",
       "    .dataframe tbody tr th {\n",
       "        vertical-align: top;\n",
       "    }\n",
       "\n",
       "    .dataframe thead th {\n",
       "        text-align: right;\n",
       "    }\n",
       "</style>\n",
       "<table border=\"1\" class=\"dataframe\">\n",
       "  <thead>\n",
       "    <tr style=\"text-align: right;\">\n",
       "      <th></th>\n",
       "      <th>Date</th>\n",
       "      <th>Value</th>\n",
       "    </tr>\n",
       "  </thead>\n",
       "  <tbody>\n",
       "    <tr>\n",
       "      <th>5186</th>\n",
       "      <td>2021-03-01</td>\n",
       "      <td>0.07</td>\n",
       "    </tr>\n",
       "    <tr>\n",
       "      <th>5187</th>\n",
       "      <td>2021-03-02</td>\n",
       "      <td>0.07</td>\n",
       "    </tr>\n",
       "    <tr>\n",
       "      <th>5188</th>\n",
       "      <td>2021-03-03</td>\n",
       "      <td>0.07</td>\n",
       "    </tr>\n",
       "    <tr>\n",
       "      <th>5189</th>\n",
       "      <td>2021-03-04</td>\n",
       "      <td>0.07</td>\n",
       "    </tr>\n",
       "    <tr>\n",
       "      <th>5190</th>\n",
       "      <td>2021-03-05</td>\n",
       "      <td>0.07</td>\n",
       "    </tr>\n",
       "  </tbody>\n",
       "</table>\n",
       "</div>"
      ],
      "text/plain": [
       "           Date  Value\n",
       "5186 2021-03-01   0.07\n",
       "5187 2021-03-02   0.07\n",
       "5188 2021-03-03   0.07\n",
       "5189 2021-03-04   0.07\n",
       "5190 2021-03-05   0.07"
      ]
     },
     "execution_count": 9,
     "metadata": {},
     "output_type": "execute_result"
    }
   ],
   "source": [
    "# reset index \n",
    "fed_funds_rate=fed_funds_rate.reset_index()\n",
    "fed_funds_rate.tail()"
   ]
  },
  {
   "cell_type": "code",
   "execution_count": 10,
   "metadata": {},
   "outputs": [
    {
     "data": {
      "text/html": [
       "<div>\n",
       "<style scoped>\n",
       "    .dataframe tbody tr th:only-of-type {\n",
       "        vertical-align: middle;\n",
       "    }\n",
       "\n",
       "    .dataframe tbody tr th {\n",
       "        vertical-align: top;\n",
       "    }\n",
       "\n",
       "    .dataframe thead th {\n",
       "        text-align: right;\n",
       "    }\n",
       "</style>\n",
       "<table border=\"1\" class=\"dataframe\">\n",
       "  <thead>\n",
       "    <tr style=\"text-align: right;\">\n",
       "      <th></th>\n",
       "      <th>Date</th>\n",
       "      <th>Value</th>\n",
       "    </tr>\n",
       "  </thead>\n",
       "  <tbody>\n",
       "    <tr>\n",
       "      <th>5186</th>\n",
       "      <td>2021-03-01</td>\n",
       "      <td>0.07</td>\n",
       "    </tr>\n",
       "    <tr>\n",
       "      <th>5187</th>\n",
       "      <td>2021-03-02</td>\n",
       "      <td>0.07</td>\n",
       "    </tr>\n",
       "    <tr>\n",
       "      <th>5188</th>\n",
       "      <td>2021-03-03</td>\n",
       "      <td>0.07</td>\n",
       "    </tr>\n",
       "    <tr>\n",
       "      <th>5189</th>\n",
       "      <td>2021-03-04</td>\n",
       "      <td>0.07</td>\n",
       "    </tr>\n",
       "    <tr>\n",
       "      <th>5190</th>\n",
       "      <td>2021-03-05</td>\n",
       "      <td>0.07</td>\n",
       "    </tr>\n",
       "  </tbody>\n",
       "</table>\n",
       "</div>"
      ],
      "text/plain": [
       "           Date  Value\n",
       "5186 2021-03-01   0.07\n",
       "5187 2021-03-02   0.07\n",
       "5188 2021-03-03   0.07\n",
       "5189 2021-03-04   0.07\n",
       "5190 2021-03-05   0.07"
      ]
     },
     "execution_count": 10,
     "metadata": {},
     "output_type": "execute_result"
    }
   ],
   "source": [
    "# filter feds funds rate to 15 years\n",
    "\n",
    "fed_funds_rate_filter = fed_funds_rate.loc[(fed_funds_rate['Date'] >= '2006-01-01') ]\n",
    "                     \n",
    "fed_funds_rate_filter.tail()"
   ]
  },
  {
   "cell_type": "code",
   "execution_count": 11,
   "metadata": {},
   "outputs": [
    {
     "data": {
      "text/html": [
       "<div>\n",
       "<style scoped>\n",
       "    .dataframe tbody tr th:only-of-type {\n",
       "        vertical-align: middle;\n",
       "    }\n",
       "\n",
       "    .dataframe tbody tr th {\n",
       "        vertical-align: top;\n",
       "    }\n",
       "\n",
       "    .dataframe thead th {\n",
       "        text-align: right;\n",
       "    }\n",
       "</style>\n",
       "<table border=\"1\" class=\"dataframe\">\n",
       "  <thead>\n",
       "    <tr style=\"text-align: right;\">\n",
       "      <th></th>\n",
       "      <th>Value</th>\n",
       "    </tr>\n",
       "    <tr>\n",
       "      <th>Date</th>\n",
       "      <th></th>\n",
       "    </tr>\n",
       "  </thead>\n",
       "  <tbody>\n",
       "    <tr>\n",
       "      <th>2021-03-01</th>\n",
       "      <td>0.07</td>\n",
       "    </tr>\n",
       "    <tr>\n",
       "      <th>2021-03-02</th>\n",
       "      <td>0.07</td>\n",
       "    </tr>\n",
       "    <tr>\n",
       "      <th>2021-03-03</th>\n",
       "      <td>0.07</td>\n",
       "    </tr>\n",
       "    <tr>\n",
       "      <th>2021-03-04</th>\n",
       "      <td>0.07</td>\n",
       "    </tr>\n",
       "    <tr>\n",
       "      <th>2021-03-05</th>\n",
       "      <td>0.07</td>\n",
       "    </tr>\n",
       "  </tbody>\n",
       "</table>\n",
       "</div>"
      ],
      "text/plain": [
       "            Value\n",
       "Date             \n",
       "2021-03-01   0.07\n",
       "2021-03-02   0.07\n",
       "2021-03-03   0.07\n",
       "2021-03-04   0.07\n",
       "2021-03-05   0.07"
      ]
     },
     "execution_count": 11,
     "metadata": {},
     "output_type": "execute_result"
    }
   ],
   "source": [
    "# set Date as index\n",
    "fed_funds_rate_filter =fed_funds_rate_filter.set_index('Date')\n",
    "fed_funds_rate_filter.tail()"
   ]
  },
  {
   "cell_type": "markdown",
   "metadata": {},
   "source": [
    "# Oil prices\n",
    "DESCRIPTION: Reference Price for the OPEC Crude Oil Basket. Currently includes: Saharan Blend (Algeria), Girassol (Angola), Oriente (Ecuador), Iran Heavy (Islamic Republic of Iran), Basra Light (Iraq), Kuwait Export (Kuwait), Es Sider (Libya), Bonny Light (Nigeria), Qatar Marine (Qatar), Arab Light (Saudi Arabia), Murban (UAE) and Merey (Venezuela)."
   ]
  },
  {
   "cell_type": "code",
   "execution_count": 12,
   "metadata": {},
   "outputs": [
    {
     "data": {
      "text/html": [
       "<div>\n",
       "<style scoped>\n",
       "    .dataframe tbody tr th:only-of-type {\n",
       "        vertical-align: middle;\n",
       "    }\n",
       "\n",
       "    .dataframe tbody tr th {\n",
       "        vertical-align: top;\n",
       "    }\n",
       "\n",
       "    .dataframe thead th {\n",
       "        text-align: right;\n",
       "    }\n",
       "</style>\n",
       "<table border=\"1\" class=\"dataframe\">\n",
       "  <thead>\n",
       "    <tr style=\"text-align: right;\">\n",
       "      <th></th>\n",
       "      <th>Value</th>\n",
       "    </tr>\n",
       "    <tr>\n",
       "      <th>Date</th>\n",
       "      <th></th>\n",
       "    </tr>\n",
       "  </thead>\n",
       "  <tbody>\n",
       "    <tr>\n",
       "      <th>2021-03-01</th>\n",
       "      <td>64.24</td>\n",
       "    </tr>\n",
       "    <tr>\n",
       "      <th>2021-03-02</th>\n",
       "      <td>61.97</td>\n",
       "    </tr>\n",
       "    <tr>\n",
       "      <th>2021-03-03</th>\n",
       "      <td>62.15</td>\n",
       "    </tr>\n",
       "    <tr>\n",
       "      <th>2021-03-04</th>\n",
       "      <td>64.26</td>\n",
       "    </tr>\n",
       "    <tr>\n",
       "      <th>2021-03-05</th>\n",
       "      <td>67.05</td>\n",
       "    </tr>\n",
       "  </tbody>\n",
       "</table>\n",
       "</div>"
      ],
      "text/plain": [
       "            Value\n",
       "Date             \n",
       "2021-03-01  64.24\n",
       "2021-03-02  61.97\n",
       "2021-03-03  62.15\n",
       "2021-03-04  64.26\n",
       "2021-03-05  67.05"
      ]
     },
     "execution_count": 12,
     "metadata": {},
     "output_type": "execute_result"
    }
   ],
   "source": [
    "oil_prices = quandl.get(\"OPEC/ORB\", authtoken= API_key)\n",
    "oil_prices.tail()"
   ]
  },
  {
   "cell_type": "code",
   "execution_count": 13,
   "metadata": {},
   "outputs": [
    {
     "data": {
      "text/html": [
       "<div>\n",
       "<style scoped>\n",
       "    .dataframe tbody tr th:only-of-type {\n",
       "        vertical-align: middle;\n",
       "    }\n",
       "\n",
       "    .dataframe tbody tr th {\n",
       "        vertical-align: top;\n",
       "    }\n",
       "\n",
       "    .dataframe thead th {\n",
       "        text-align: right;\n",
       "    }\n",
       "</style>\n",
       "<table border=\"1\" class=\"dataframe\">\n",
       "  <thead>\n",
       "    <tr style=\"text-align: right;\">\n",
       "      <th></th>\n",
       "      <th>Date</th>\n",
       "      <th>Value</th>\n",
       "    </tr>\n",
       "  </thead>\n",
       "  <tbody>\n",
       "    <tr>\n",
       "      <th>4683</th>\n",
       "      <td>2021-03-01</td>\n",
       "      <td>64.24</td>\n",
       "    </tr>\n",
       "    <tr>\n",
       "      <th>4684</th>\n",
       "      <td>2021-03-02</td>\n",
       "      <td>61.97</td>\n",
       "    </tr>\n",
       "    <tr>\n",
       "      <th>4685</th>\n",
       "      <td>2021-03-03</td>\n",
       "      <td>62.15</td>\n",
       "    </tr>\n",
       "    <tr>\n",
       "      <th>4686</th>\n",
       "      <td>2021-03-04</td>\n",
       "      <td>64.26</td>\n",
       "    </tr>\n",
       "    <tr>\n",
       "      <th>4687</th>\n",
       "      <td>2021-03-05</td>\n",
       "      <td>67.05</td>\n",
       "    </tr>\n",
       "  </tbody>\n",
       "</table>\n",
       "</div>"
      ],
      "text/plain": [
       "           Date  Value\n",
       "4683 2021-03-01  64.24\n",
       "4684 2021-03-02  61.97\n",
       "4685 2021-03-03  62.15\n",
       "4686 2021-03-04  64.26\n",
       "4687 2021-03-05  67.05"
      ]
     },
     "execution_count": 13,
     "metadata": {},
     "output_type": "execute_result"
    }
   ],
   "source": [
    "oil_prices_df=oil_prices.reset_index()\n",
    "oil_prices_df.tail()"
   ]
  },
  {
   "cell_type": "code",
   "execution_count": 14,
   "metadata": {},
   "outputs": [
    {
     "data": {
      "text/html": [
       "<div>\n",
       "<style scoped>\n",
       "    .dataframe tbody tr th:only-of-type {\n",
       "        vertical-align: middle;\n",
       "    }\n",
       "\n",
       "    .dataframe tbody tr th {\n",
       "        vertical-align: top;\n",
       "    }\n",
       "\n",
       "    .dataframe thead th {\n",
       "        text-align: right;\n",
       "    }\n",
       "</style>\n",
       "<table border=\"1\" class=\"dataframe\">\n",
       "  <thead>\n",
       "    <tr style=\"text-align: right;\">\n",
       "      <th></th>\n",
       "      <th>Date</th>\n",
       "      <th>Value</th>\n",
       "    </tr>\n",
       "  </thead>\n",
       "  <tbody>\n",
       "    <tr>\n",
       "      <th>4683</th>\n",
       "      <td>2021-03-01</td>\n",
       "      <td>64.24</td>\n",
       "    </tr>\n",
       "    <tr>\n",
       "      <th>4684</th>\n",
       "      <td>2021-03-02</td>\n",
       "      <td>61.97</td>\n",
       "    </tr>\n",
       "    <tr>\n",
       "      <th>4685</th>\n",
       "      <td>2021-03-03</td>\n",
       "      <td>62.15</td>\n",
       "    </tr>\n",
       "    <tr>\n",
       "      <th>4686</th>\n",
       "      <td>2021-03-04</td>\n",
       "      <td>64.26</td>\n",
       "    </tr>\n",
       "    <tr>\n",
       "      <th>4687</th>\n",
       "      <td>2021-03-05</td>\n",
       "      <td>67.05</td>\n",
       "    </tr>\n",
       "  </tbody>\n",
       "</table>\n",
       "</div>"
      ],
      "text/plain": [
       "           Date  Value\n",
       "4683 2021-03-01  64.24\n",
       "4684 2021-03-02  61.97\n",
       "4685 2021-03-03  62.15\n",
       "4686 2021-03-04  64.26\n",
       "4687 2021-03-05  67.05"
      ]
     },
     "execution_count": 14,
     "metadata": {},
     "output_type": "execute_result"
    }
   ],
   "source": [
    "# Filter data for 15 years\n",
    "filtered_oil_prices = oil_prices_df.loc[(oil_prices_df['Date'] >= '2006-01-01') ]\n",
    "                    \n",
    "filtered_oil_prices.tail()"
   ]
  },
  {
   "cell_type": "code",
   "execution_count": 15,
   "metadata": {},
   "outputs": [
    {
     "data": {
      "text/html": [
       "<div>\n",
       "<style scoped>\n",
       "    .dataframe tbody tr th:only-of-type {\n",
       "        vertical-align: middle;\n",
       "    }\n",
       "\n",
       "    .dataframe tbody tr th {\n",
       "        vertical-align: top;\n",
       "    }\n",
       "\n",
       "    .dataframe thead th {\n",
       "        text-align: right;\n",
       "    }\n",
       "</style>\n",
       "<table border=\"1\" class=\"dataframe\">\n",
       "  <thead>\n",
       "    <tr style=\"text-align: right;\">\n",
       "      <th></th>\n",
       "      <th>Value</th>\n",
       "    </tr>\n",
       "    <tr>\n",
       "      <th>Date</th>\n",
       "      <th></th>\n",
       "    </tr>\n",
       "  </thead>\n",
       "  <tbody>\n",
       "    <tr>\n",
       "      <th>2021-03-01</th>\n",
       "      <td>64.24</td>\n",
       "    </tr>\n",
       "    <tr>\n",
       "      <th>2021-03-02</th>\n",
       "      <td>61.97</td>\n",
       "    </tr>\n",
       "    <tr>\n",
       "      <th>2021-03-03</th>\n",
       "      <td>62.15</td>\n",
       "    </tr>\n",
       "    <tr>\n",
       "      <th>2021-03-04</th>\n",
       "      <td>64.26</td>\n",
       "    </tr>\n",
       "    <tr>\n",
       "      <th>2021-03-05</th>\n",
       "      <td>67.05</td>\n",
       "    </tr>\n",
       "  </tbody>\n",
       "</table>\n",
       "</div>"
      ],
      "text/plain": [
       "            Value\n",
       "Date             \n",
       "2021-03-01  64.24\n",
       "2021-03-02  61.97\n",
       "2021-03-03  62.15\n",
       "2021-03-04  64.26\n",
       "2021-03-05  67.05"
      ]
     },
     "execution_count": 15,
     "metadata": {},
     "output_type": "execute_result"
    }
   ],
   "source": [
    "filtered_oil_prices_df =filtered_oil_prices.set_index('Date')\n",
    "filtered_oil_prices_df.tail()"
   ]
  },
  {
   "cell_type": "code",
   "execution_count": 16,
   "metadata": {},
   "outputs": [
    {
     "data": {
      "image/png": "[encoded data removed]",
      "text/plain": [
       "<Figure size 864x432 with 2 Axes>"
      ]
     },
     "metadata": {
      "needs_background": "light"
     },
     "output_type": "display_data"
    }
   ],
   "source": [
    "# create figure and axis objects with subplots() for prime rates\n",
    "fig,ax = plt.subplots(figsize =(12,6))\n",
    "\n",
    "# make a plot\n",
    "ax.plot(fed_funds_rate_filter.Value, color=\"MediumBlue\",label =\"fed funds rate\")\n",
    "ax.plot(filtered_prime_rate_df.MPRIME, color=\"red\",label =\"prime rate\")\n",
    "\n",
    "ax.set_xlabel(\"Date\",fontsize=14)\n",
    "# set y-axis label\n",
    "ax.set_ylabel(\" rate (%)\",fontsize=14)\n",
    "ax.set_title(\"prime rate\")\n",
    "\n",
    "\n",
    "# twin object for two different y-axis on the sample plot\n",
    "ax2 = ax.twinx()\n",
    "\n",
    "# make a plot with different y-axis using second axis object  by add oil_data to same plot\n",
    "ax2.plot(filtered_oil_prices_df.Value,  color=\"LimeGreen\", label = \"oil price\")\n",
    "ax2.set_ylabel(\"oil price ($)\", color=\"green\", fontsize=14)\n",
    "ax.set_title(\"prime rate compared to OPEC oil_prices\")\n",
    "\n",
    "ax.plot(np.nan, '-g', label = 'oil price')\n",
    "ax.legend(loc=0)\n",
    "\n",
    "\n",
    "ax.grid()\n",
    "plt.show()\n",
    "# save the plot as a file\n",
    "fig.savefig('prime_rate_compared_to_OPEC_oil_prices.jpg',\n",
    "            format='jpeg',\n",
    "            dpi=150,\n",
    "            bbox_inches='tight')\n"
   ]
  },
  {
   "cell_type": "markdown",
   "metadata": {},
   "source": [
    "# United States Misery index\n",
    "DESCRIPTION: How miserable do you feel? The misery index was initiated by economist Arthur Okun, an adviser to President Lyndon Johnson in the 1960's. It is simply the unemployment rate added to the inflation rate. It is assumed that both a higher rate of unemployment and a worsening of inflation both create economic and social costs for a country. A combination of rising inflation and more people out of work implies a deterioration in economic performance and a rise in the misery index."
   ]
  },
  {
   "cell_type": "code",
   "execution_count": 17,
   "metadata": {},
   "outputs": [
    {
     "data": {
      "text/html": [
       "<div>\n",
       "<style scoped>\n",
       "    .dataframe tbody tr th:only-of-type {\n",
       "        vertical-align: middle;\n",
       "    }\n",
       "\n",
       "    .dataframe tbody tr th {\n",
       "        vertical-align: top;\n",
       "    }\n",
       "\n",
       "    .dataframe thead th {\n",
       "        text-align: right;\n",
       "    }\n",
       "</style>\n",
       "<table border=\"1\" class=\"dataframe\">\n",
       "  <thead>\n",
       "    <tr style=\"text-align: right;\">\n",
       "      <th></th>\n",
       "      <th>Unemployment Rate</th>\n",
       "      <th>Inflation Rate</th>\n",
       "      <th>Misery Index</th>\n",
       "    </tr>\n",
       "    <tr>\n",
       "      <th>Date</th>\n",
       "      <th></th>\n",
       "      <th></th>\n",
       "      <th></th>\n",
       "    </tr>\n",
       "  </thead>\n",
       "  <tbody>\n",
       "    <tr>\n",
       "      <th>2020-09-30</th>\n",
       "      <td>7.9</td>\n",
       "      <td>1.37</td>\n",
       "      <td>9.27</td>\n",
       "    </tr>\n",
       "    <tr>\n",
       "      <th>2020-10-31</th>\n",
       "      <td>6.9</td>\n",
       "      <td>1.18</td>\n",
       "      <td>8.08</td>\n",
       "    </tr>\n",
       "    <tr>\n",
       "      <th>2020-11-30</th>\n",
       "      <td>6.7</td>\n",
       "      <td>1.17</td>\n",
       "      <td>7.87</td>\n",
       "    </tr>\n",
       "    <tr>\n",
       "      <th>2020-12-31</th>\n",
       "      <td>6.7</td>\n",
       "      <td>1.36</td>\n",
       "      <td>8.06</td>\n",
       "    </tr>\n",
       "    <tr>\n",
       "      <th>2021-01-31</th>\n",
       "      <td>6.3</td>\n",
       "      <td>1.40</td>\n",
       "      <td>7.70</td>\n",
       "    </tr>\n",
       "  </tbody>\n",
       "</table>\n",
       "</div>"
      ],
      "text/plain": [
       "            Unemployment Rate  Inflation Rate  Misery Index\n",
       "Date                                                       \n",
       "2020-09-30                7.9            1.37          9.27\n",
       "2020-10-31                6.9            1.18          8.08\n",
       "2020-11-30                6.7            1.17          7.87\n",
       "2020-12-31                6.7            1.36          8.06\n",
       "2021-01-31                6.3            1.40          7.70"
      ]
     },
     "execution_count": 17,
     "metadata": {},
     "output_type": "execute_result"
    }
   ],
   "source": [
    "Misery_index = quandl.get(\"USMISERY/INDEX\", authtoken = API_key)\n",
    "Misery_index.tail()\n"
   ]
  },
  {
   "cell_type": "code",
   "execution_count": 18,
   "metadata": {},
   "outputs": [
    {
     "data": {
      "text/html": [
       "<div>\n",
       "<style scoped>\n",
       "    .dataframe tbody tr th:only-of-type {\n",
       "        vertical-align: middle;\n",
       "    }\n",
       "\n",
       "    .dataframe tbody tr th {\n",
       "        vertical-align: top;\n",
       "    }\n",
       "\n",
       "    .dataframe thead th {\n",
       "        text-align: right;\n",
       "    }\n",
       "</style>\n",
       "<table border=\"1\" class=\"dataframe\">\n",
       "  <thead>\n",
       "    <tr style=\"text-align: right;\">\n",
       "      <th></th>\n",
       "      <th>Date</th>\n",
       "      <th>Unemployment Rate</th>\n",
       "      <th>Inflation Rate</th>\n",
       "      <th>Misery Index</th>\n",
       "    </tr>\n",
       "  </thead>\n",
       "  <tbody>\n",
       "    <tr>\n",
       "      <th>868</th>\n",
       "      <td>2020-09-30</td>\n",
       "      <td>7.9</td>\n",
       "      <td>1.37</td>\n",
       "      <td>9.27</td>\n",
       "    </tr>\n",
       "    <tr>\n",
       "      <th>869</th>\n",
       "      <td>2020-10-31</td>\n",
       "      <td>6.9</td>\n",
       "      <td>1.18</td>\n",
       "      <td>8.08</td>\n",
       "    </tr>\n",
       "    <tr>\n",
       "      <th>870</th>\n",
       "      <td>2020-11-30</td>\n",
       "      <td>6.7</td>\n",
       "      <td>1.17</td>\n",
       "      <td>7.87</td>\n",
       "    </tr>\n",
       "    <tr>\n",
       "      <th>871</th>\n",
       "      <td>2020-12-31</td>\n",
       "      <td>6.7</td>\n",
       "      <td>1.36</td>\n",
       "      <td>8.06</td>\n",
       "    </tr>\n",
       "    <tr>\n",
       "      <th>872</th>\n",
       "      <td>2021-01-31</td>\n",
       "      <td>6.3</td>\n",
       "      <td>1.40</td>\n",
       "      <td>7.70</td>\n",
       "    </tr>\n",
       "  </tbody>\n",
       "</table>\n",
       "</div>"
      ],
      "text/plain": [
       "          Date  Unemployment Rate  Inflation Rate  Misery Index\n",
       "868 2020-09-30                7.9            1.37          9.27\n",
       "869 2020-10-31                6.9            1.18          8.08\n",
       "870 2020-11-30                6.7            1.17          7.87\n",
       "871 2020-12-31                6.7            1.36          8.06\n",
       "872 2021-01-31                6.3            1.40          7.70"
      ]
     },
     "execution_count": 18,
     "metadata": {},
     "output_type": "execute_result"
    }
   ],
   "source": [
    "Misery_index_df=Misery_index.reset_index()\n",
    "Misery_index_df.tail()"
   ]
  },
  {
   "cell_type": "code",
   "execution_count": 19,
   "metadata": {},
   "outputs": [
    {
     "data": {
      "text/html": [
       "<div>\n",
       "<style scoped>\n",
       "    .dataframe tbody tr th:only-of-type {\n",
       "        vertical-align: middle;\n",
       "    }\n",
       "\n",
       "    .dataframe tbody tr th {\n",
       "        vertical-align: top;\n",
       "    }\n",
       "\n",
       "    .dataframe thead th {\n",
       "        text-align: right;\n",
       "    }\n",
       "</style>\n",
       "<table border=\"1\" class=\"dataframe\">\n",
       "  <thead>\n",
       "    <tr style=\"text-align: right;\">\n",
       "      <th></th>\n",
       "      <th>Date</th>\n",
       "      <th>Unemployment Rate</th>\n",
       "      <th>Inflation Rate</th>\n",
       "      <th>Misery Index</th>\n",
       "    </tr>\n",
       "  </thead>\n",
       "  <tbody>\n",
       "    <tr>\n",
       "      <th>868</th>\n",
       "      <td>2020-09-30</td>\n",
       "      <td>7.9</td>\n",
       "      <td>1.37</td>\n",
       "      <td>9.27</td>\n",
       "    </tr>\n",
       "    <tr>\n",
       "      <th>869</th>\n",
       "      <td>2020-10-31</td>\n",
       "      <td>6.9</td>\n",
       "      <td>1.18</td>\n",
       "      <td>8.08</td>\n",
       "    </tr>\n",
       "    <tr>\n",
       "      <th>870</th>\n",
       "      <td>2020-11-30</td>\n",
       "      <td>6.7</td>\n",
       "      <td>1.17</td>\n",
       "      <td>7.87</td>\n",
       "    </tr>\n",
       "    <tr>\n",
       "      <th>871</th>\n",
       "      <td>2020-12-31</td>\n",
       "      <td>6.7</td>\n",
       "      <td>1.36</td>\n",
       "      <td>8.06</td>\n",
       "    </tr>\n",
       "    <tr>\n",
       "      <th>872</th>\n",
       "      <td>2021-01-31</td>\n",
       "      <td>6.3</td>\n",
       "      <td>1.40</td>\n",
       "      <td>7.70</td>\n",
       "    </tr>\n",
       "  </tbody>\n",
       "</table>\n",
       "</div>"
      ],
      "text/plain": [
       "          Date  Unemployment Rate  Inflation Rate  Misery Index\n",
       "868 2020-09-30                7.9            1.37          9.27\n",
       "869 2020-10-31                6.9            1.18          8.08\n",
       "870 2020-11-30                6.7            1.17          7.87\n",
       "871 2020-12-31                6.7            1.36          8.06\n",
       "872 2021-01-31                6.3            1.40          7.70"
      ]
     },
     "execution_count": 19,
     "metadata": {},
     "output_type": "execute_result"
    }
   ],
   "source": [
    "# Filter data for 15 years\n",
    "Misery_index_filtered = Misery_index_df.loc[(Misery_index_df['Date'] >= '2006-01-01') ]\n",
    "                    \n",
    "Misery_index_filtered.tail()"
   ]
  },
  {
   "cell_type": "code",
   "execution_count": 20,
   "metadata": {},
   "outputs": [
    {
     "data": {
      "text/html": [
       "<div>\n",
       "<style scoped>\n",
       "    .dataframe tbody tr th:only-of-type {\n",
       "        vertical-align: middle;\n",
       "    }\n",
       "\n",
       "    .dataframe tbody tr th {\n",
       "        vertical-align: top;\n",
       "    }\n",
       "\n",
       "    .dataframe thead th {\n",
       "        text-align: right;\n",
       "    }\n",
       "</style>\n",
       "<table border=\"1\" class=\"dataframe\">\n",
       "  <thead>\n",
       "    <tr style=\"text-align: right;\">\n",
       "      <th></th>\n",
       "      <th>Unemployment Rate</th>\n",
       "      <th>Inflation Rate</th>\n",
       "      <th>Misery Index</th>\n",
       "    </tr>\n",
       "    <tr>\n",
       "      <th>Date</th>\n",
       "      <th></th>\n",
       "      <th></th>\n",
       "      <th></th>\n",
       "    </tr>\n",
       "  </thead>\n",
       "  <tbody>\n",
       "    <tr>\n",
       "      <th>2020-09-30</th>\n",
       "      <td>7.9</td>\n",
       "      <td>1.37</td>\n",
       "      <td>9.27</td>\n",
       "    </tr>\n",
       "    <tr>\n",
       "      <th>2020-10-31</th>\n",
       "      <td>6.9</td>\n",
       "      <td>1.18</td>\n",
       "      <td>8.08</td>\n",
       "    </tr>\n",
       "    <tr>\n",
       "      <th>2020-11-30</th>\n",
       "      <td>6.7</td>\n",
       "      <td>1.17</td>\n",
       "      <td>7.87</td>\n",
       "    </tr>\n",
       "    <tr>\n",
       "      <th>2020-12-31</th>\n",
       "      <td>6.7</td>\n",
       "      <td>1.36</td>\n",
       "      <td>8.06</td>\n",
       "    </tr>\n",
       "    <tr>\n",
       "      <th>2021-01-31</th>\n",
       "      <td>6.3</td>\n",
       "      <td>1.40</td>\n",
       "      <td>7.70</td>\n",
       "    </tr>\n",
       "  </tbody>\n",
       "</table>\n",
       "</div>"
      ],
      "text/plain": [
       "            Unemployment Rate  Inflation Rate  Misery Index\n",
       "Date                                                       \n",
       "2020-09-30                7.9            1.37          9.27\n",
       "2020-10-31                6.9            1.18          8.08\n",
       "2020-11-30                6.7            1.17          7.87\n",
       "2020-12-31                6.7            1.36          8.06\n",
       "2021-01-31                6.3            1.40          7.70"
      ]
     },
     "execution_count": 20,
     "metadata": {},
     "output_type": "execute_result"
    }
   ],
   "source": [
    "#set index\n",
    "Misery_index_filtered_df = Misery_index_filtered.set_index('Date')\n",
    "Misery_index_filtered_df.tail(5)"
   ]
  },
  {
   "cell_type": "markdown",
   "metadata": {},
   "source": [
    "# GROUP THE MISERY INDEX BY YEAR AND AGRREGATE BY AVERAGE"
   ]
  },
  {
   "cell_type": "code",
   "execution_count": 21,
   "metadata": {},
   "outputs": [],
   "source": [
    "misery_index_grouped_avg = Misery_index_filtered_df.groupby(lambda x: x.year)['Misery Index'].agg(['mean'])\n",
    "\n",
    "# misery_index_grouped_avg_df= pd.DataFrame (misery_index_grouped_avg, columns = ['YDate','misery index'])\n",
    "# misery_index_grouped_avg_df.head()"
   ]
  },
  {
   "cell_type": "markdown",
   "metadata": {},
   "source": [
    "# PLOT PRIME RATE AND MISERY INDEX"
   ]
  },
  {
   "cell_type": "code",
   "execution_count": 22,
   "metadata": {},
   "outputs": [],
   "source": [
    "# # create figure and axis objects with subplots() for prime rates\n",
    "# fig,ax = plt.subplots(figsize =(12,6))\n",
    "\n",
    "# # make a plot\n",
    "# ax.plot(filtered_prime_rate_df.MPRIME,  color=\"purple\",label =\"prime rate\")\n",
    "# # set x-axis label\n",
    "# ax.set_xlabel(\"Date\",fontsize=14)\n",
    "# # set y-axis label\n",
    "# ax.set_ylabel(\" rate (%)\",fontsize=14,color=\"purple\")\n",
    "# ax.set_title(\"prime rate\")\n",
    "\n",
    "\n",
    "# # twin object for two different y-axis on the sample plot\n",
    "# ax2 = ax.twinx()\n",
    "\n",
    "# # make a plot with different y-axis using second axis object  by add oil_data to same plot\n",
    "# ax2.plot(Misery_index_filtered_df['Misery Index'] , color=\"blue\", label = \"misery index\")\n",
    "# ax2.set_ylabel(\"misery index\", color=\"blue\", fontsize=14)\n",
    "# ax.set_title(\"prime rate compared to misery\")\n",
    "\n",
    "# ax.plot(np.nan, '-b', label = 'misery index')\n",
    "# ax.legend(loc=0)\n",
    "\n",
    "\n",
    "# ax.grid()\n",
    "# plt.show()\n",
    "# # save the plot as a file\n",
    "# fig.savefig('prime_rate_compared_to_misery.jpg',\n",
    "#             format='jpeg',\n",
    "#             dpi=150,\n",
    "#             bbox_inches='tight')\n"
   ]
  },
  {
   "cell_type": "code",
   "execution_count": 23,
   "metadata": {},
   "outputs": [],
   "source": [
    "from config import remote_db_endpoint, remote_db_port\n",
    "from config import remote_db_name, remote_db_user, remote_db_pwd\n",
    "import mysql.connector"
   ]
  },
  {
   "cell_type": "code",
   "execution_count": 24,
   "metadata": {},
   "outputs": [],
   "source": [
    "engine = create_engine(f\"mysql://{remote_db_user}:{remote_db_pwd}@{remote_db_endpoint}:{remote_db_port}/{remote_db_name}\")\n",
    "conn = engine.connect()"
   ]
  },
  {
   "cell_type": "code",
   "execution_count": 25,
   "metadata": {},
   "outputs": [],
   "source": [
    "# filtered_prime_rate_df.to_sql(name='us_prime_rate', con=engine, if_exists = 'replace', index=True)\n",
    "\n",
    "# Misery_index_filtered_df.to_sql(name='misery_index', con=engine, if_exists = 'replace', index=True)\n",
    "\n",
    "# filtered_oil_prices_df.to_sql(name='oil_prices', con=engine, if_exists = 'replace', index=True)"
   ]
  },
  {
   "cell_type": "code",
   "execution_count": 26,
   "metadata": {},
   "outputs": [],
   "source": [
    "# fig = go.Figure(go.Indicator(\n",
    "#     mode = \"gauge+number\",\n",
    "#     value = 9.27,\n",
    "#     domain = {'x': [0, 1], 'y': [0, 1]},\n",
    "#     title = {'text': \"Misery index\"}))\n",
    "\n",
    "# fig.show()\n",
    "\n"
   ]
  },
  {
   "cell_type": "code",
   "execution_count": 27,
   "metadata": {
    "scrolled": true
   },
   "outputs": [
    {
     "data": {
      "text/plain": [
       "Text(0, 0.5, 'rate(%)')"
      ]
     },
     "execution_count": 27,
     "metadata": {},
     "output_type": "execute_result"
    },
    {
     "data": {
      "image/png": "[encoded data removed]",
      "text/plain": [
       "<Figure size 720x432 with 2 Axes>"
      ]
     },
     "metadata": {
      "needs_background": "light"
     },
     "output_type": "display_data"
    }
   ],
   "source": [
    "# create bar plot for misery index\n",
    "# create line plot for prime rate\n",
    "fig = plt.figure(figsize=(10,6))\n",
    "ax = Misery_index_filtered_df['Misery Index'].plot(kind='bar', use_index=True,color='blue')\n",
    "ax.set_title('prime rate compared to misery index', fontsize=16)\n",
    "ax.set_xlabel('Date', fontsize=16)\n",
    "ax.set_ylabel('misery index', fontsize=16, color='blue')\n",
    "\n",
    "ax2 = ax.twinx()\n",
    "ax2.plot(filtered_prime_rate_df['MPRIME'].values, linestyle='-', linewidth=2.0, color='red')\n",
    "ax2.set_xlabel('Date', fontsize=16)\n",
    "ax2.set_ylabel('rate(%)', fontsize=16, color='red')\n",
    "\n"
   ]
  },
  {
   "cell_type": "markdown",
   "metadata": {},
   "source": [
    "# create a single dataframe for all data"
   ]
  },
  {
   "cell_type": "code",
   "execution_count": 28,
   "metadata": {},
   "outputs": [
    {
     "data": {
      "text/html": [
       "<div>\n",
       "<style scoped>\n",
       "    .dataframe tbody tr th:only-of-type {\n",
       "        vertical-align: middle;\n",
       "    }\n",
       "\n",
       "    .dataframe tbody tr th {\n",
       "        vertical-align: top;\n",
       "    }\n",
       "\n",
       "    .dataframe thead th {\n",
       "        text-align: right;\n",
       "    }\n",
       "</style>\n",
       "<table border=\"1\" class=\"dataframe\">\n",
       "  <thead>\n",
       "    <tr style=\"text-align: right;\">\n",
       "      <th></th>\n",
       "      <th>Unemployment Rate</th>\n",
       "      <th>Inflation Rate</th>\n",
       "      <th>Misery Index</th>\n",
       "    </tr>\n",
       "    <tr>\n",
       "      <th>Date</th>\n",
       "      <th></th>\n",
       "      <th></th>\n",
       "      <th></th>\n",
       "    </tr>\n",
       "  </thead>\n",
       "  <tbody>\n",
       "    <tr>\n",
       "      <th>2006-01-31</th>\n",
       "      <td>4.7</td>\n",
       "      <td>3.99</td>\n",
       "      <td>8.69</td>\n",
       "    </tr>\n",
       "    <tr>\n",
       "      <th>2006-02-28</th>\n",
       "      <td>4.8</td>\n",
       "      <td>3.60</td>\n",
       "      <td>8.40</td>\n",
       "    </tr>\n",
       "    <tr>\n",
       "      <th>2006-03-31</th>\n",
       "      <td>4.7</td>\n",
       "      <td>3.36</td>\n",
       "      <td>8.06</td>\n",
       "    </tr>\n",
       "    <tr>\n",
       "      <th>2006-04-30</th>\n",
       "      <td>4.7</td>\n",
       "      <td>3.55</td>\n",
       "      <td>8.25</td>\n",
       "    </tr>\n",
       "    <tr>\n",
       "      <th>2006-05-31</th>\n",
       "      <td>4.6</td>\n",
       "      <td>4.17</td>\n",
       "      <td>8.77</td>\n",
       "    </tr>\n",
       "  </tbody>\n",
       "</table>\n",
       "</div>"
      ],
      "text/plain": [
       "            Unemployment Rate  Inflation Rate  Misery Index\n",
       "Date                                                       \n",
       "2006-01-31                4.7            3.99          8.69\n",
       "2006-02-28                4.8            3.60          8.40\n",
       "2006-03-31                4.7            3.36          8.06\n",
       "2006-04-30                4.7            3.55          8.25\n",
       "2006-05-31                4.6            4.17          8.77"
      ]
     },
     "execution_count": 28,
     "metadata": {},
     "output_type": "execute_result"
    }
   ],
   "source": [
    "filtered_prime_rate_df.head()\n",
    "filtered_oil_prices_df.head()\n",
    "Misery_index_filtered_df.head()"
   ]
  },
  {
   "cell_type": "code",
   "execution_count": null,
   "metadata": {},
   "outputs": [],
   "source": []
  },
  {
   "cell_type": "code",
   "execution_count": 29,
   "metadata": {},
   "outputs": [
    {
     "data": {
      "text/html": [
       "<div>\n",
       "<style scoped>\n",
       "    .dataframe tbody tr th:only-of-type {\n",
       "        vertical-align: middle;\n",
       "    }\n",
       "\n",
       "    .dataframe tbody tr th {\n",
       "        vertical-align: top;\n",
       "    }\n",
       "\n",
       "    .dataframe thead th {\n",
       "        text-align: right;\n",
       "    }\n",
       "</style>\n",
       "<table border=\"1\" class=\"dataframe\">\n",
       "  <thead>\n",
       "    <tr style=\"text-align: right;\">\n",
       "      <th></th>\n",
       "      <th>MPRIME</th>\n",
       "      <th>Value</th>\n",
       "    </tr>\n",
       "    <tr>\n",
       "      <th>Date</th>\n",
       "      <th></th>\n",
       "      <th></th>\n",
       "    </tr>\n",
       "  </thead>\n",
       "  <tbody>\n",
       "    <tr>\n",
       "      <th>2006-02-01</th>\n",
       "      <td>7.50</td>\n",
       "      <td>60.77</td>\n",
       "    </tr>\n",
       "    <tr>\n",
       "      <th>2006-03-01</th>\n",
       "      <td>7.53</td>\n",
       "      <td>57.13</td>\n",
       "    </tr>\n",
       "    <tr>\n",
       "      <th>2006-05-01</th>\n",
       "      <td>7.93</td>\n",
       "      <td>66.20</td>\n",
       "    </tr>\n",
       "    <tr>\n",
       "      <th>2006-06-01</th>\n",
       "      <td>8.02</td>\n",
       "      <td>64.84</td>\n",
       "    </tr>\n",
       "    <tr>\n",
       "      <th>2006-08-01</th>\n",
       "      <td>8.25</td>\n",
       "      <td>69.97</td>\n",
       "    </tr>\n",
       "  </tbody>\n",
       "</table>\n",
       "</div>"
      ],
      "text/plain": [
       "            MPRIME  Value\n",
       "Date                     \n",
       "2006-02-01    7.50  60.77\n",
       "2006-03-01    7.53  57.13\n",
       "2006-05-01    7.93  66.20\n",
       "2006-06-01    8.02  64.84\n",
       "2006-08-01    8.25  69.97"
      ]
     },
     "execution_count": 29,
     "metadata": {},
     "output_type": "execute_result"
    }
   ],
   "source": [
    "merged_prime_oil = pd.merge(filtered_prime_rate_df, filtered_oil_prices_df,  how = \"inner\", on =\"Date\")\n",
    "merged_prime_oil.head()"
   ]
  },
  {
   "cell_type": "code",
   "execution_count": 30,
   "metadata": {},
   "outputs": [
    {
     "data": {
      "text/html": [
       "<div>\n",
       "<style scoped>\n",
       "    .dataframe tbody tr th:only-of-type {\n",
       "        vertical-align: middle;\n",
       "    }\n",
       "\n",
       "    .dataframe tbody tr th {\n",
       "        vertical-align: top;\n",
       "    }\n",
       "\n",
       "    .dataframe thead th {\n",
       "        text-align: right;\n",
       "    }\n",
       "</style>\n",
       "<table border=\"1\" class=\"dataframe\">\n",
       "  <thead>\n",
       "    <tr style=\"text-align: right;\">\n",
       "      <th></th>\n",
       "      <th>MPRIME</th>\n",
       "      <th>Value</th>\n",
       "      <th>Unemployment Rate</th>\n",
       "      <th>Inflation Rate</th>\n",
       "      <th>Misery Index</th>\n",
       "    </tr>\n",
       "    <tr>\n",
       "      <th>Date</th>\n",
       "      <th></th>\n",
       "      <th></th>\n",
       "      <th></th>\n",
       "      <th></th>\n",
       "      <th></th>\n",
       "    </tr>\n",
       "  </thead>\n",
       "  <tbody>\n",
       "    <tr>\n",
       "      <th>2020-09-30</th>\n",
       "      <td>NaN</td>\n",
       "      <td>NaN</td>\n",
       "      <td>7.9</td>\n",
       "      <td>1.37</td>\n",
       "      <td>9.27</td>\n",
       "    </tr>\n",
       "    <tr>\n",
       "      <th>2020-10-31</th>\n",
       "      <td>NaN</td>\n",
       "      <td>NaN</td>\n",
       "      <td>6.9</td>\n",
       "      <td>1.18</td>\n",
       "      <td>8.08</td>\n",
       "    </tr>\n",
       "    <tr>\n",
       "      <th>2020-11-30</th>\n",
       "      <td>NaN</td>\n",
       "      <td>NaN</td>\n",
       "      <td>6.7</td>\n",
       "      <td>1.17</td>\n",
       "      <td>7.87</td>\n",
       "    </tr>\n",
       "    <tr>\n",
       "      <th>2020-12-31</th>\n",
       "      <td>NaN</td>\n",
       "      <td>NaN</td>\n",
       "      <td>6.7</td>\n",
       "      <td>1.36</td>\n",
       "      <td>8.06</td>\n",
       "    </tr>\n",
       "    <tr>\n",
       "      <th>2021-01-31</th>\n",
       "      <td>NaN</td>\n",
       "      <td>NaN</td>\n",
       "      <td>6.3</td>\n",
       "      <td>1.40</td>\n",
       "      <td>7.70</td>\n",
       "    </tr>\n",
       "  </tbody>\n",
       "</table>\n",
       "</div>"
      ],
      "text/plain": [
       "            MPRIME  Value  Unemployment Rate  Inflation Rate  Misery Index\n",
       "Date                                                                      \n",
       "2020-09-30     NaN    NaN                7.9            1.37          9.27\n",
       "2020-10-31     NaN    NaN                6.9            1.18          8.08\n",
       "2020-11-30     NaN    NaN                6.7            1.17          7.87\n",
       "2020-12-31     NaN    NaN                6.7            1.36          8.06\n",
       "2021-01-31     NaN    NaN                6.3            1.40          7.70"
      ]
     },
     "execution_count": 30,
     "metadata": {},
     "output_type": "execute_result"
    }
   ],
   "source": [
    "merged_prime_oil_misery = pd.merge(merged_prime_oil, Misery_index_filtered_df, how = \"right\", on = \"Date\")\n",
    "merged_prime_oil_misery.tail()"
   ]
  },
  {
   "cell_type": "code",
   "execution_count": 31,
   "metadata": {},
   "outputs": [
    {
     "data": {
      "text/html": [
       "<div>\n",
       "<style scoped>\n",
       "    .dataframe tbody tr th:only-of-type {\n",
       "        vertical-align: middle;\n",
       "    }\n",
       "\n",
       "    .dataframe tbody tr th {\n",
       "        vertical-align: top;\n",
       "    }\n",
       "\n",
       "    .dataframe thead th {\n",
       "        text-align: right;\n",
       "    }\n",
       "</style>\n",
       "<table border=\"1\" class=\"dataframe\">\n",
       "  <thead>\n",
       "    <tr style=\"text-align: right;\">\n",
       "      <th></th>\n",
       "      <th>MPRIME</th>\n",
       "      <th>Value</th>\n",
       "      <th>Unemployment Rate</th>\n",
       "      <th>Inflation Rate</th>\n",
       "      <th>Misery Index</th>\n",
       "    </tr>\n",
       "    <tr>\n",
       "      <th>Date</th>\n",
       "      <th></th>\n",
       "      <th></th>\n",
       "      <th></th>\n",
       "      <th></th>\n",
       "      <th></th>\n",
       "    </tr>\n",
       "  </thead>\n",
       "  <tbody>\n",
       "    <tr>\n",
       "      <th>2020-09-30</th>\n",
       "      <td>0.0</td>\n",
       "      <td>0.0</td>\n",
       "      <td>7.9</td>\n",
       "      <td>1.37</td>\n",
       "      <td>9.27</td>\n",
       "    </tr>\n",
       "    <tr>\n",
       "      <th>2020-10-31</th>\n",
       "      <td>0.0</td>\n",
       "      <td>0.0</td>\n",
       "      <td>6.9</td>\n",
       "      <td>1.18</td>\n",
       "      <td>8.08</td>\n",
       "    </tr>\n",
       "    <tr>\n",
       "      <th>2020-11-30</th>\n",
       "      <td>0.0</td>\n",
       "      <td>0.0</td>\n",
       "      <td>6.7</td>\n",
       "      <td>1.17</td>\n",
       "      <td>7.87</td>\n",
       "    </tr>\n",
       "    <tr>\n",
       "      <th>2020-12-31</th>\n",
       "      <td>0.0</td>\n",
       "      <td>0.0</td>\n",
       "      <td>6.7</td>\n",
       "      <td>1.36</td>\n",
       "      <td>8.06</td>\n",
       "    </tr>\n",
       "    <tr>\n",
       "      <th>2021-01-31</th>\n",
       "      <td>0.0</td>\n",
       "      <td>0.0</td>\n",
       "      <td>6.3</td>\n",
       "      <td>1.40</td>\n",
       "      <td>7.70</td>\n",
       "    </tr>\n",
       "  </tbody>\n",
       "</table>\n",
       "</div>"
      ],
      "text/plain": [
       "            MPRIME  Value  Unemployment Rate  Inflation Rate  Misery Index\n",
       "Date                                                                      \n",
       "2020-09-30     0.0    0.0                7.9            1.37          9.27\n",
       "2020-10-31     0.0    0.0                6.9            1.18          8.08\n",
       "2020-11-30     0.0    0.0                6.7            1.17          7.87\n",
       "2020-12-31     0.0    0.0                6.7            1.36          8.06\n",
       "2021-01-31     0.0    0.0                6.3            1.40          7.70"
      ]
     },
     "execution_count": 31,
     "metadata": {},
     "output_type": "execute_result"
    }
   ],
   "source": [
    "merged_prime_oil_misery_df = merged_prime_oil_misery.fillna(0)\n",
    "merged_prime_oil_misery_df.tail() "
   ]
  },
  {
   "cell_type": "code",
   "execution_count": 32,
   "metadata": {},
   "outputs": [
    {
     "data": {
      "text/html": [
       "<div>\n",
       "<style scoped>\n",
       "    .dataframe tbody tr th:only-of-type {\n",
       "        vertical-align: middle;\n",
       "    }\n",
       "\n",
       "    .dataframe tbody tr th {\n",
       "        vertical-align: top;\n",
       "    }\n",
       "\n",
       "    .dataframe thead th {\n",
       "        text-align: right;\n",
       "    }\n",
       "</style>\n",
       "<table border=\"1\" class=\"dataframe\">\n",
       "  <thead>\n",
       "    <tr style=\"text-align: right;\">\n",
       "      <th></th>\n",
       "      <th>MPRIME</th>\n",
       "      <th>Value</th>\n",
       "      <th>Unemployment Rate</th>\n",
       "      <th>Inflation Rate</th>\n",
       "      <th>Misery Index</th>\n",
       "    </tr>\n",
       "    <tr>\n",
       "      <th>Date</th>\n",
       "      <th></th>\n",
       "      <th></th>\n",
       "      <th></th>\n",
       "      <th></th>\n",
       "      <th></th>\n",
       "    </tr>\n",
       "  </thead>\n",
       "  <tbody>\n",
       "    <tr>\n",
       "      <th>2020-09-30</th>\n",
       "      <td>0.0</td>\n",
       "      <td>0.0</td>\n",
       "      <td>7.9</td>\n",
       "      <td>1.37</td>\n",
       "      <td>9.27</td>\n",
       "    </tr>\n",
       "    <tr>\n",
       "      <th>2020-10-31</th>\n",
       "      <td>0.0</td>\n",
       "      <td>0.0</td>\n",
       "      <td>6.9</td>\n",
       "      <td>1.18</td>\n",
       "      <td>8.08</td>\n",
       "    </tr>\n",
       "    <tr>\n",
       "      <th>2020-11-30</th>\n",
       "      <td>0.0</td>\n",
       "      <td>0.0</td>\n",
       "      <td>6.7</td>\n",
       "      <td>1.17</td>\n",
       "      <td>7.87</td>\n",
       "    </tr>\n",
       "    <tr>\n",
       "      <th>2020-12-31</th>\n",
       "      <td>0.0</td>\n",
       "      <td>0.0</td>\n",
       "      <td>6.7</td>\n",
       "      <td>1.36</td>\n",
       "      <td>8.06</td>\n",
       "    </tr>\n",
       "    <tr>\n",
       "      <th>2021-01-31</th>\n",
       "      <td>0.0</td>\n",
       "      <td>0.0</td>\n",
       "      <td>6.3</td>\n",
       "      <td>1.40</td>\n",
       "      <td>7.70</td>\n",
       "    </tr>\n",
       "  </tbody>\n",
       "</table>\n",
       "</div>"
      ],
      "text/plain": [
       "            MPRIME  Value  Unemployment Rate  Inflation Rate  Misery Index\n",
       "Date                                                                      \n",
       "2020-09-30     0.0    0.0                7.9            1.37          9.27\n",
       "2020-10-31     0.0    0.0                6.9            1.18          8.08\n",
       "2020-11-30     0.0    0.0                6.7            1.17          7.87\n",
       "2020-12-31     0.0    0.0                6.7            1.36          8.06\n",
       "2021-01-31     0.0    0.0                6.3            1.40          7.70"
      ]
     },
     "execution_count": 32,
     "metadata": {},
     "output_type": "execute_result"
    }
   ],
   "source": [
    "merged_prime_oil_misery_df = merged_prime_oil_misery.fillna(0)\n",
    "merged_prime_oil_misery_df.tail() "
   ]
  },
  {
   "cell_type": "code",
   "execution_count": 33,
   "metadata": {},
   "outputs": [
    {
     "data": {
      "text/plain": [
       "<matplotlib.legend.Legend at 0x20fd95d20a0>"
      ]
     },
     "execution_count": 33,
     "metadata": {},
     "output_type": "execute_result"
    },
    {
     "data": {
      "image/png": "[encoded data removed]",
      "text/plain": [
       "<Figure size 864x432 with 2 Axes>"
      ]
     },
     "metadata": {
      "needs_background": "light"
     },
     "output_type": "display_data"
    }
   ],
   "source": [
    "# create figure and axis objects with subplots() for prime rates\n",
    "fig,ax = plt.subplots(figsize =(12,6))\n",
    "\n",
    "# make a plot\n",
    "ax.plot(fed_funds_rate_filter.Value, color=\"MediumBlue\",label =\"fed funds rate\")\n",
    "ax.plot(merged_prime_oil_misery_df.MPRIME, color=\"red\", label =\"prime rate\")\n",
    "\n",
    "ax.set_xlabel(\"Date\",fontsize=14)\n",
    "# set y-axis label\n",
    "ax.set_ylabel(\" rate (%)\",fontsize=14)\n",
    "ax.set_title(\"prime rate\")\n",
    "\n",
    "\n",
    "# twin object for two different y-axis on the sample plot\n",
    "ax2 = ax.twinx()\n",
    "\n",
    "# make a plot with different y-axis using second axis object  by add oil_data to same plot\n",
    "ax2.plot(merged_prime_oil_misery_df.Value,  color=\"Green\", label = \"oil price\")\n",
    "ax2.set_ylabel(\"oil price ($)\", color=\"green\", fontsize=14)\n",
    "ax.set_title(\"prime rate compared to OPEC oil_prices\")\n",
    "\n",
    "ax.plot(np.nan, '-g', label = 'oil price')\n",
    "ax.legend(loc=0)\n",
    "\n",
    "\n",
    "# ax.grid()\n",
    "# plt.show()\n",
    "# # save the plot as a file\n",
    "# fig.savefig('prime_rate_compared_to_OPEC_oil_prices.jpg',\n",
    "#             format='jpeg',\n",
    "#             dpi=150,\n",
    "#             bbox_inches='tight')\n"
   ]
  },
  {
   "cell_type": "code",
   "execution_count": 34,
   "metadata": {},
   "outputs": [
    {
     "data": {
      "text/plain": [
       "Text(0, 0.5, 'rate(%)')"
      ]
     },
     "execution_count": 34,
     "metadata": {},
     "output_type": "execute_result"
    },
    {
     "data": {
      "image/png": "[encoded data removed]",
      "text/plain": [
       "<Figure size 720x432 with 2 Axes>"
      ]
     },
     "metadata": {
      "needs_background": "light"
     },
     "output_type": "display_data"
    }
   ],
   "source": [
    "# create bar plot for misery index\n",
    "# create line plot for prime rate\n",
    "fig = plt.figure(figsize=(10,6))\n",
    "ax = merged_prime_oil_misery_df['Misery Index'].plot(kind='bar', use_index=True, color='blue')\n",
    "ax.set_title('prime rate compared to misery index', fontsize=16)\n",
    "ax.set_xlabel('Date', fontsize=16)\n",
    "ax.set_ylabel('misery index', fontsize=16, color='blue')\n",
    "\n",
    "ax2 = ax.twinx()\n",
    "ax2.plot(merged_prime_oil_misery_df['MPRIME'].values, linestyle='-', linewidth=2.0, color='red')\n",
    "ax2.set_xlabel('Date', fontsize=16)\n",
    "ax2.set_ylabel('rate(%)', fontsize=16, color='red')\n",
    "\n"
   ]
  },
  {
   "cell_type": "code",
   "execution_count": 40,
   "metadata": {},
   "outputs": [
    {
     "name": "stdout",
     "output_type": "stream",
     "text": [
      "[{\"Date\":1138665600000,\"Unemployment Rate\":4.7,\"Inflation Rate\":3.99,\"Misery Index\":8.69},{\"Date\":1141084800000,\"Unemployment Rate\":4.8,\"Inflation Rate\":3.6,\"Misery Index\":8.4},{\"Date\":1143763200000,\"Unemployment Rate\":4.7,\"Inflation Rate\":3.36,\"Misery Index\":8.06},{\"Date\":1146355200000,\"Unemployment Rate\":4.7,\"Inflation Rate\":3.55,\"Misery Index\":8.25},{\"Date\":1149033600000,\"Unemployment Rate\":4.6,\"Inflation Rate\":4.17,\"Misery Index\":8.77},{\"Date\":1151625600000,\"Unemployment Rate\":4.6,\"Inflation Rate\":4.32,\"Misery Index\":8.92},{\"Date\":1154304000000,\"Unemployment Rate\":4.7,\"Inflation Rate\":4.15,\"Misery Index\":8.85},{\"Date\":1156982400000,\"Unemployment Rate\":4.7,\"Inflation Rate\":3.82,\"Misery Index\":8.52},{\"Date\":1159574400000,\"Unemployment Rate\":4.5,\"Inflation Rate\":2.06,\"Misery Index\":6.56},{\"Date\":1162252800000,\"Unemployment Rate\":4.4,\"Inflation Rate\":1.31,\"Misery Index\":5.71},{\"Date\":1164844800000,\"Unemployment Rate\":4.5,\"Inflation Rate\":1.97,\"Misery Index\":6.47},{\"Date\":1167523200000,\"Unemployment Rate\":4.4,\"Inflation Rate\":2.54,\"Misery Index\":6.94},{\"Date\":1170201600000,\"Unemployment Rate\":4.6,\"Inflation Rate\":2.08,\"Misery Index\":6.68},{\"Date\":1172620800000,\"Unemployment Rate\":4.5,\"Inflation Rate\":2.42,\"Misery Index\":6.92},{\"Date\":1175299200000,\"Unemployment Rate\":4.4,\"Inflation Rate\":2.78,\"Misery Index\":7.18},{\"Date\":1177891200000,\"Unemployment Rate\":4.5,\"Inflation Rate\":2.57,\"Misery Index\":7.07},{\"Date\":1180569600000,\"Unemployment Rate\":4.4,\"Inflation Rate\":2.69,\"Misery Index\":7.09},{\"Date\":1183161600000,\"Unemployment Rate\":4.6,\"Inflation Rate\":2.69,\"Misery Index\":7.29},{\"Date\":1185840000000,\"Unemployment Rate\":4.7,\"Inflation Rate\":2.36,\"Misery Index\":7.06},{\"Date\":1188518400000,\"Unemployment Rate\":4.6,\"Inflation Rate\":1.97,\"Misery Index\":6.57},{\"Date\":1191110400000,\"Unemployment Rate\":4.7,\"Inflation Rate\":2.76,\"Misery Index\":7.46},{\"Date\":1193788800000,\"Unemployment Rate\":4.7,\"Inflation Rate\":3.54,\"Misery Index\":8.24},{\"Date\":1196380800000,\"Unemployment Rate\":4.7,\"Inflation Rate\":4.31,\"Misery Index\":9.01},{\"Date\":1199059200000,\"Unemployment Rate\":5.0,\"Inflation Rate\":4.08,\"Misery Index\":9.08},{\"Date\":1201737600000,\"Unemployment Rate\":5.0,\"Inflation Rate\":4.28,\"Misery Index\":9.28},{\"Date\":1204243200000,\"Unemployment Rate\":4.9,\"Inflation Rate\":4.03,\"Misery Index\":8.93},{\"Date\":1206921600000,\"Unemployment Rate\":5.1,\"Inflation Rate\":3.98,\"Misery Index\":9.08},{\"Date\":1209513600000,\"Unemployment Rate\":5.0,\"Inflation Rate\":3.94,\"Misery Index\":8.94},{\"Date\":1212192000000,\"Unemployment Rate\":5.4,\"Inflation Rate\":4.18,\"Misery Index\":9.58},{\"Date\":1214784000000,\"Unemployment Rate\":5.6,\"Inflation Rate\":5.02,\"Misery Index\":10.62},{\"Date\":1217462400000,\"Unemployment Rate\":5.8,\"Inflation Rate\":5.6,\"Misery Index\":11.4},{\"Date\":1220140800000,\"Unemployment Rate\":6.1,\"Inflation Rate\":5.37,\"Misery Index\":11.47},{\"Date\":1222732800000,\"Unemployment Rate\":6.1,\"Inflation Rate\":4.94,\"Misery Index\":11.04},{\"Date\":1225411200000,\"Unemployment Rate\":6.5,\"Inflation Rate\":3.66,\"Misery Index\":10.16},{\"Date\":1228003200000,\"Unemployment Rate\":6.8,\"Inflation Rate\":1.07,\"Misery Index\":7.87},{\"Date\":1230681600000,\"Unemployment Rate\":7.3,\"Inflation Rate\":0.09,\"Misery Index\":7.39},{\"Date\":1233360000000,\"Unemployment Rate\":7.8,\"Inflation Rate\":0.03,\"Misery Index\":7.83},{\"Date\":1235779200000,\"Unemployment Rate\":8.2,\"Inflation Rate\":0.24,\"Misery Index\":8.44},{\"Date\":1238457600000,\"Unemployment Rate\":8.6,\"Inflation Rate\":-0.38,\"Misery Index\":8.22},{\"Date\":1241049600000,\"Unemployment Rate\":8.9,\"Inflation Rate\":-0.74,\"Misery Index\":8.16},{\"Date\":1243728000000,\"Unemployment Rate\":9.4,\"Inflation Rate\":-1.28,\"Misery Index\":8.12},{\"Date\":1246320000000,\"Unemployment Rate\":9.5,\"Inflation Rate\":-1.43,\"Misery Index\":8.07},{\"Date\":1248998400000,\"Unemployment Rate\":9.5,\"Inflation Rate\":-2.1,\"Misery Index\":7.4},{\"Date\":1251676800000,\"Unemployment Rate\":9.7,\"Inflation Rate\":-1.48,\"Misery Index\":8.22},{\"Date\":1254268800000,\"Unemployment Rate\":9.8,\"Inflation Rate\":-1.29,\"Misery Index\":8.51},{\"Date\":1256947200000,\"Unemployment Rate\":10.1,\"Inflation Rate\":-0.18,\"Misery Index\":9.92},{\"Date\":1259539200000,\"Unemployment Rate\":9.9,\"Inflation Rate\":1.84,\"Misery Index\":11.74},{\"Date\":1262217600000,\"Unemployment Rate\":9.9,\"Inflation Rate\":2.72,\"Misery Index\":12.62},{\"Date\":1264896000000,\"Unemployment Rate\":9.7,\"Inflation Rate\":2.63,\"Misery Index\":12.33},{\"Date\":1267315200000,\"Unemployment Rate\":9.7,\"Inflation Rate\":2.14,\"Misery Index\":11.84},{\"Date\":1269993600000,\"Unemployment Rate\":9.7,\"Inflation Rate\":2.31,\"Misery Index\":12.01},{\"Date\":1272585600000,\"Unemployment Rate\":9.8,\"Inflation Rate\":2.24,\"Misery Index\":12.04},{\"Date\":1275264000000,\"Unemployment Rate\":9.6,\"Inflation Rate\":2.02,\"Misery Index\":11.62},{\"Date\":1277856000000,\"Unemployment Rate\":9.5,\"Inflation Rate\":1.05,\"Misery Index\":10.55},{\"Date\":1280534400000,\"Unemployment Rate\":9.5,\"Inflation Rate\":1.24,\"Misery Index\":10.74},{\"Date\":1283212800000,\"Unemployment Rate\":9.6,\"Inflation Rate\":1.15,\"Misery Index\":10.75},{\"Date\":1285804800000,\"Unemployment Rate\":9.6,\"Inflation Rate\":1.14,\"Misery Index\":10.74},{\"Date\":1288483200000,\"Unemployment Rate\":9.7,\"Inflation Rate\":1.17,\"Misery Index\":10.87},{\"Date\":1291075200000,\"Unemployment Rate\":9.8,\"Inflation Rate\":1.14,\"Misery Index\":10.94},{\"Date\":1293753600000,\"Unemployment Rate\":9.4,\"Inflation Rate\":1.5,\"Misery Index\":10.9},{\"Date\":1296432000000,\"Unemployment Rate\":9.1,\"Inflation Rate\":1.63,\"Misery Index\":10.73},{\"Date\":1298851200000,\"Unemployment Rate\":9.0,\"Inflation Rate\":2.11,\"Misery Index\":11.11},{\"Date\":1301529600000,\"Unemployment Rate\":8.9,\"Inflation Rate\":2.68,\"Misery Index\":11.58},{\"Date\":1304121600000,\"Unemployment Rate\":9.0,\"Inflation Rate\":3.16,\"Misery Index\":12.16},{\"Date\":1306800000000,\"Unemployment Rate\":9.0,\"Inflation Rate\":3.57,\"Misery Index\":12.57},{\"Date\":1309392000000,\"Unemployment Rate\":9.1,\"Inflation Rate\":3.56,\"Misery Index\":12.66},{\"Date\":1312070400000,\"Unemployment Rate\":9.1,\"Inflation Rate\":3.63,\"Misery Index\":12.73},{\"Date\":1314748800000,\"Unemployment Rate\":9.1,\"Inflation Rate\":3.77,\"Misery Index\":12.87},{\"Date\":1317340800000,\"Unemployment Rate\":9.0,\"Inflation Rate\":3.87,\"Misery Index\":12.87},{\"Date\":1320019200000,\"Unemployment Rate\":8.9,\"Inflation Rate\":3.53,\"Misery Index\":12.43},{\"Date\":1322611200000,\"Unemployment Rate\":8.7,\"Inflation Rate\":3.39,\"Misery Index\":12.09},{\"Date\":1325289600000,\"Unemployment Rate\":8.5,\"Inflation Rate\":2.96,\"Misery Index\":11.46},{\"Date\":1327968000000,\"Unemployment Rate\":8.3,\"Inflation Rate\":2.93,\"Misery Index\":11.23},{\"Date\":1330473600000,\"Unemployment Rate\":8.3,\"Inflation Rate\":2.87,\"Misery Index\":11.17},{\"Date\":1333152000000,\"Unemployment Rate\":8.2,\"Inflation Rate\":2.65,\"Misery Index\":10.85},{\"Date\":1335744000000,\"Unemployment Rate\":8.1,\"Inflation Rate\":2.3,\"Misery Index\":10.4},{\"Date\":1338422400000,\"Unemployment Rate\":8.2,\"Inflation Rate\":1.7,\"Misery Index\":9.9},{\"Date\":1341014400000,\"Unemployment Rate\":8.2,\"Inflation Rate\":1.66,\"Misery Index\":9.86},{\"Date\":1343692800000,\"Unemployment Rate\":8.3,\"Inflation Rate\":1.41,\"Misery Index\":9.71},{\"Date\":1346371200000,\"Unemployment Rate\":8.1,\"Inflation Rate\":1.69,\"Misery Index\":9.79},{\"Date\":1348963200000,\"Unemployment Rate\":7.8,\"Inflation Rate\":1.99,\"Misery Index\":9.79},{\"Date\":1351641600000,\"Unemployment Rate\":7.9,\"Inflation Rate\":2.16,\"Misery Index\":10.06},{\"Date\":1354233600000,\"Unemployment Rate\":7.7,\"Inflation Rate\":1.76,\"Misery Index\":9.46},{\"Date\":1356912000000,\"Unemployment Rate\":7.8,\"Inflation Rate\":1.74,\"Misery Index\":9.54},{\"Date\":1359590400000,\"Unemployment Rate\":7.9,\"Inflation Rate\":1.59,\"Misery Index\":9.49},{\"Date\":1362009600000,\"Unemployment Rate\":7.7,\"Inflation Rate\":1.98,\"Misery Index\":9.68},{\"Date\":1364688000000,\"Unemployment Rate\":7.6,\"Inflation Rate\":1.47,\"Misery Index\":9.07},{\"Date\":1367280000000,\"Unemployment Rate\":7.5,\"Inflation Rate\":1.06,\"Misery Index\":8.56},{\"Date\":1369958400000,\"Unemployment Rate\":7.6,\"Inflation Rate\":1.36,\"Misery Index\":8.96},{\"Date\":1372550400000,\"Unemployment Rate\":7.6,\"Inflation Rate\":1.75,\"Misery Index\":9.35},{\"Date\":1375228800000,\"Unemployment Rate\":7.4,\"Inflation Rate\":1.96,\"Misery Index\":9.36},{\"Date\":1377907200000,\"Unemployment Rate\":7.3,\"Inflation Rate\":1.52,\"Misery Index\":8.82},{\"Date\":1380499200000,\"Unemployment Rate\":7.2,\"Inflation Rate\":1.18,\"Misery Index\":8.38},{\"Date\":1383177600000,\"Unemployment Rate\":7.3,\"Inflation Rate\":0.96,\"Misery Index\":8.26},{\"Date\":1385769600000,\"Unemployment Rate\":7.0,\"Inflation Rate\":1.24,\"Misery Index\":8.24},{\"Date\":1388448000000,\"Unemployment Rate\":6.7,\"Inflation Rate\":1.5,\"Misery Index\":8.2},{\"Date\":1391126400000,\"Unemployment Rate\":6.6,\"Inflation Rate\":1.58,\"Misery Index\":8.18},{\"Date\":1393545600000,\"Unemployment Rate\":6.7,\"Inflation Rate\":1.13,\"Misery Index\":7.83},{\"Date\":1396224000000,\"Unemployment Rate\":6.7,\"Inflation Rate\":1.51,\"Misery Index\":8.21},{\"Date\":1398816000000,\"Unemployment Rate\":6.3,\"Inflation Rate\":1.95,\"Misery Index\":8.25},{\"Date\":1401494400000,\"Unemployment Rate\":6.3,\"Inflation Rate\":2.13,\"Misery Index\":8.43},{\"Date\":1404086400000,\"Unemployment Rate\":6.1,\"Inflation Rate\":2.07,\"Misery Index\":8.17},{\"Date\":1406764800000,\"Unemployment Rate\":6.2,\"Inflation Rate\":1.99,\"Misery Index\":8.19},{\"Date\":1409443200000,\"Unemployment Rate\":6.1,\"Inflation Rate\":1.7,\"Misery Index\":7.8},{\"Date\":1412035200000,\"Unemployment Rate\":5.9,\"Inflation Rate\":1.66,\"Misery Index\":7.56},{\"Date\":1414713600000,\"Unemployment Rate\":5.8,\"Inflation Rate\":1.66,\"Misery Index\":7.46},{\"Date\":1417305600000,\"Unemployment Rate\":5.8,\"Inflation Rate\":1.32,\"Misery Index\":7.12},{\"Date\":1419984000000,\"Unemployment Rate\":5.6,\"Inflation Rate\":0.76,\"Misery Index\":6.36},{\"Date\":1422662400000,\"Unemployment Rate\":5.7,\"Inflation Rate\":-0.09,\"Misery Index\":5.61},{\"Date\":1425081600000,\"Unemployment Rate\":5.5,\"Inflation Rate\":-0.03,\"Misery Index\":5.47},{\"Date\":1427760000000,\"Unemployment Rate\":5.5,\"Inflation Rate\":-0.07,\"Misery Index\":5.43},{\"Date\":1430352000000,\"Unemployment Rate\":5.4,\"Inflation Rate\":-0.2,\"Misery Index\":5.2},{\"Date\":1433030400000,\"Unemployment Rate\":5.5,\"Inflation Rate\":-0.04,\"Misery Index\":5.46},{\"Date\":1435622400000,\"Unemployment Rate\":5.3,\"Inflation Rate\":0.12,\"Misery Index\":5.42},{\"Date\":1438300800000,\"Unemployment Rate\":5.3,\"Inflation Rate\":0.17,\"Misery Index\":5.47},{\"Date\":1440979200000,\"Unemployment Rate\":5.1,\"Inflation Rate\":0.2,\"Misery Index\":5.3},{\"Date\":1443571200000,\"Unemployment Rate\":5.1,\"Inflation Rate\":-0.04,\"Misery Index\":5.06},{\"Date\":1446249600000,\"Unemployment Rate\":5.0,\"Inflation Rate\":0.17,\"Misery Index\":5.17},{\"Date\":1448841600000,\"Unemployment Rate\":5.0,\"Inflation Rate\":0.5,\"Misery Index\":5.5},{\"Date\":1451520000000,\"Unemployment Rate\":5.0,\"Inflation Rate\":0.73,\"Misery Index\":5.73},{\"Date\":1454198400000,\"Unemployment Rate\":4.9,\"Inflation Rate\":1.37,\"Misery Index\":6.27},{\"Date\":1456704000000,\"Unemployment Rate\":4.9,\"Inflation Rate\":1.02,\"Misery Index\":5.92},{\"Date\":1459382400000,\"Unemployment Rate\":5.0,\"Inflation Rate\":0.85,\"Misery Index\":5.85},{\"Date\":1461974400000,\"Unemployment Rate\":5.0,\"Inflation Rate\":1.13,\"Misery Index\":6.13},{\"Date\":1464652800000,\"Unemployment Rate\":4.7,\"Inflation Rate\":1.02,\"Misery Index\":5.72},{\"Date\":1467244800000,\"Unemployment Rate\":4.9,\"Inflation Rate\":1.01,\"Misery Index\":5.91},{\"Date\":1469923200000,\"Unemployment Rate\":4.9,\"Inflation Rate\":0.84,\"Misery Index\":5.74},{\"Date\":1472601600000,\"Unemployment Rate\":4.9,\"Inflation Rate\":1.06,\"Misery Index\":5.96},{\"Date\":1475193600000,\"Unemployment Rate\":5.0,\"Inflation Rate\":1.46,\"Misery Index\":6.46},{\"Date\":1477872000000,\"Unemployment Rate\":4.9,\"Inflation Rate\":1.64,\"Misery Index\":6.54},{\"Date\":1480464000000,\"Unemployment Rate\":4.6,\"Inflation Rate\":1.69,\"Misery Index\":6.29},{\"Date\":1483142400000,\"Unemployment Rate\":4.7,\"Inflation Rate\":2.07,\"Misery Index\":6.77},{\"Date\":1485820800000,\"Unemployment Rate\":4.8,\"Inflation Rate\":2.5,\"Misery Index\":7.3},{\"Date\":1488240000000,\"Unemployment Rate\":4.7,\"Inflation Rate\":2.74,\"Misery Index\":7.44},{\"Date\":1490918400000,\"Unemployment Rate\":4.5,\"Inflation Rate\":2.38,\"Misery Index\":6.88},{\"Date\":1493510400000,\"Unemployment Rate\":4.4,\"Inflation Rate\":2.2,\"Misery Index\":6.6},{\"Date\":1496188800000,\"Unemployment Rate\":4.3,\"Inflation Rate\":1.87,\"Misery Index\":6.17},{\"Date\":1498780800000,\"Unemployment Rate\":4.4,\"Inflation Rate\":1.63,\"Misery Index\":6.03},{\"Date\":1501459200000,\"Unemployment Rate\":4.3,\"Inflation Rate\":1.73,\"Misery Index\":6.03},{\"Date\":1504137600000,\"Unemployment Rate\":4.4,\"Inflation Rate\":1.94,\"Misery Index\":6.34},{\"Date\":1506729600000,\"Unemployment Rate\":4.2,\"Inflation Rate\":2.23,\"Misery Index\":6.43},{\"Date\":1509408000000,\"Unemployment Rate\":4.1,\"Inflation Rate\":2.04,\"Misery Index\":6.14},{\"Date\":1512000000000,\"Unemployment Rate\":4.1,\"Inflation Rate\":2.2,\"Misery Index\":6.3},{\"Date\":1514678400000,\"Unemployment Rate\":4.1,\"Inflation Rate\":2.11,\"Misery Index\":6.21},{\"Date\":1517356800000,\"Unemployment Rate\":4.1,\"Inflation Rate\":2.07,\"Misery Index\":6.17},{\"Date\":1519776000000,\"Unemployment Rate\":4.1,\"Inflation Rate\":2.21,\"Misery Index\":6.31},{\"Date\":1522454400000,\"Unemployment Rate\":4.1,\"Inflation Rate\":2.36,\"Misery Index\":6.46},{\"Date\":1525046400000,\"Unemployment Rate\":3.9,\"Inflation Rate\":2.46,\"Misery Index\":6.36},{\"Date\":1527724800000,\"Unemployment Rate\":3.8,\"Inflation Rate\":2.8,\"Misery Index\":6.6},{\"Date\":1530316800000,\"Unemployment Rate\":4.0,\"Inflation Rate\":2.87,\"Misery Index\":6.87},{\"Date\":1532995200000,\"Unemployment Rate\":3.9,\"Inflation Rate\":2.95,\"Misery Index\":6.85},{\"Date\":1535673600000,\"Unemployment Rate\":3.9,\"Inflation Rate\":2.7,\"Misery Index\":6.6},{\"Date\":1538265600000,\"Unemployment Rate\":3.7,\"Inflation Rate\":2.28,\"Misery Index\":5.98},{\"Date\":1540944000000,\"Unemployment Rate\":3.7,\"Inflation Rate\":2.52,\"Misery Index\":6.22},{\"Date\":1543536000000,\"Unemployment Rate\":3.7,\"Inflation Rate\":2.18,\"Misery Index\":5.88},{\"Date\":1546214400000,\"Unemployment Rate\":3.9,\"Inflation Rate\":1.91,\"Misery Index\":5.81},{\"Date\":1548892800000,\"Unemployment Rate\":4.0,\"Inflation Rate\":1.55,\"Misery Index\":5.55},{\"Date\":1551312000000,\"Unemployment Rate\":3.8,\"Inflation Rate\":1.52,\"Misery Index\":5.32},{\"Date\":1553990400000,\"Unemployment Rate\":3.8,\"Inflation Rate\":1.86,\"Misery Index\":5.66},{\"Date\":1556582400000,\"Unemployment Rate\":3.6,\"Inflation Rate\":2.0,\"Misery Index\":5.6},{\"Date\":1559260800000,\"Unemployment Rate\":3.6,\"Inflation Rate\":1.79,\"Misery Index\":5.39},{\"Date\":1567209600000,\"Unemployment Rate\":3.7,\"Inflation Rate\":1.75,\"Misery Index\":5.45},{\"Date\":1569801600000,\"Unemployment Rate\":3.5,\"Inflation Rate\":1.71,\"Misery Index\":5.21},{\"Date\":1572480000000,\"Unemployment Rate\":3.6,\"Inflation Rate\":1.76,\"Misery Index\":5.36},{\"Date\":1575072000000,\"Unemployment Rate\":3.5,\"Inflation Rate\":2.05,\"Misery Index\":5.55},{\"Date\":1577750400000,\"Unemployment Rate\":3.5,\"Inflation Rate\":2.29,\"Misery Index\":5.79},{\"Date\":1580428800000,\"Unemployment Rate\":3.6,\"Inflation Rate\":2.49,\"Misery Index\":6.09},{\"Date\":1582934400000,\"Unemployment Rate\":3.5,\"Inflation Rate\":2.33,\"Misery Index\":5.83},{\"Date\":1585612800000,\"Unemployment Rate\":4.4,\"Inflation Rate\":1.54,\"Misery Index\":5.94},{\"Date\":1588204800000,\"Unemployment Rate\":14.7,\"Inflation Rate\":0.33,\"Misery Index\":15.03},{\"Date\":1590883200000,\"Unemployment Rate\":13.3,\"Inflation Rate\":0.12,\"Misery Index\":13.42},{\"Date\":1598832000000,\"Unemployment Rate\":8.4,\"Inflation Rate\":1.31,\"Misery Index\":9.71},{\"Date\":1601424000000,\"Unemployment Rate\":7.9,\"Inflation Rate\":1.37,\"Misery Index\":9.27},{\"Date\":1604102400000,\"Unemployment Rate\":6.9,\"Inflation Rate\":1.18,\"Misery Index\":8.08},{\"Date\":1606694400000,\"Unemployment Rate\":6.7,\"Inflation Rate\":1.17,\"Misery Index\":7.87},{\"Date\":1609372800000,\"Unemployment Rate\":6.7,\"Inflation Rate\":1.36,\"Misery Index\":8.06},{\"Date\":1612051200000,\"Unemployment Rate\":6.3,\"Inflation Rate\":1.4,\"Misery Index\":7.7}]\n"
     ]
    }
   ],
   "source": [
    "query = pd.read_sql(\"select * from misery_index\",conn)\n",
    "data_misery =query.to_json(orient =\"records\")\n",
    "print(data_misery)"
   ]
  },
  {
   "cell_type": "code",
   "execution_count": null,
   "metadata": {},
   "outputs": [],
   "source": []
  },
  {
   "cell_type": "code",
   "execution_count": null,
   "metadata": {},
   "outputs": [],
   "source": []
  }
 ],
 "metadata": {
  "kernelspec": {
   "display_name": "Python 3",
   "language": "python",
   "name": "python3"
  },
  "language_info": {
   "codemirror_mode": {
    "name": "ipython",
    "version": 3
   },
   "file_extension": ".py",
   "mimetype": "text/x-python",
   "name": "python",
   "nbconvert_exporter": "python",
   "pygments_lexer": "ipython3",
   "version": "3.8.3"
  }
 },
 "nbformat": 4,
 "nbformat_minor": 4
}
